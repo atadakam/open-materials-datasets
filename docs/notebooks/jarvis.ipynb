{
 "cells": [
  {
   "cell_type": "markdown",
   "metadata": {},
   "source": [
    "# The NIST JARVIS Dataset"
   ]
  },
  {
   "cell_type": "markdown",
   "metadata": {},
   "source": [
    "---"
   ]
  },
  {
   "cell_type": "markdown",
   "metadata": {},
   "source": [
    "## Modules"
   ]
  },
  {
   "cell_type": "code",
   "execution_count": 1,
   "metadata": {},
   "outputs": [],
   "source": [
    "import gzip\n",
    "import json\n",
    "from pathlib import Path\n",
    "\n",
    "import numpy as np\n",
    "import pandas as pd\n",
    "import pymatgen as pmg"
   ]
  },
  {
   "cell_type": "markdown",
   "metadata": {},
   "source": [
    "## Reading the data"
   ]
  },
  {
   "cell_type": "markdown",
   "metadata": {},
   "source": [
    "### Data sources"
   ]
  },
  {
   "cell_type": "markdown",
   "metadata": {},
   "source": [
    "Listed as a kind of key, value pair. The \"keys\" are the names I gave to the data files after downloading. The \"values\" are the links on FigShare where I was able to download the data.\n",
    "\n",
    "*   `jdft_3d_2018-07-07.json`: <https://figshare.com/articles/jdft_3d-7-7-2018_json/6815699>\n",
    "*   `jdft_2d_2018-07-07.json`: <https://figshare.com/articles/jdft_2d-7-7-2018_json/6815705>\n",
    "*   `jarvisml_cfid.json`: <https://figshare.com/articles/JARVIS-ML-CFID-descriptors_and_material_properties/6870101>\n",
    "\n",
    "After downloading and renaming the data files, I compressed them using `gzip` and moved them to this repository's `data/` directory. You can reproduce my results if you do the same."
   ]
  },
  {
   "cell_type": "markdown",
   "metadata": {},
   "source": [
    "### Data dictionary"
   ]
  },
  {
   "cell_type": "markdown",
   "metadata": {},
   "source": [
    "Source: https://github.com/usnistgov/jarvis/blob/master/jarvis/db/static/jarvis_ml-train.ipynb\n",
    "\n",
    "| predictor      | description                                                                                                                                      |\n",
    "| -------------- | ------------------------------------------------------------------------------------------------------------------------------------------------ |\n",
    "| desc           | 1557 descriptors                                                                                                                                 |\n",
    "| form_enp       | formation energy per atom (eV/atom)                                                                                                              |\n",
    "| op_gap         | OptB88vdW functional based bandgap (eV)                                                                                                          |\n",
    "| mbj_gap        | TBmBJ functional based bandgap (eV)                                                                                                              |\n",
    "| kv             | Voigt bulk mod. (GPa)                                                                                                                            |\n",
    "| gv             | Shear bulk mod. (GPa)                                                                                                                            |\n",
    "| elastic        | elastic tensor instring format, use the function 'get_et' to convert into pymatgen elastictensor object                                          |\n",
    "| epsx           | Static dielctric function value in x-direction based on OptB88vdW (no unit)                                                                      |\n",
    "| mepsx          | Static dielctric function value in x-direction based on TBmBJ (no unit)                                                                          |\n",
    "| magmom         | Magnetic moment (Bohr magneton) [from OUTCAR and from OSZICAR], generally OSZICAR value is preferred                                             |\n",
    "| kp_leng        | Kpoint automatic line density obtained after automatic convergence (Angstrom), substract 25 because 5 extra points were taken during convergence |\n",
    "| encut          | Plane wave cut-off value obtained after automatic convergence                                                                                    |\n",
    "| exfoliation_en | exfoliation energy                                                                                                                               |\n",
    "| strt           | final structure after relaxation with OptB88vdW                                                                                                  |\n",
    "| el/hl_mass     | effective mass with BoltzTrap at 300K for electrons/holes                                                                                        |"
   ]
  },
  {
   "cell_type": "markdown",
   "metadata": {},
   "source": [
    "### Loading the data"
   ]
  },
  {
   "cell_type": "markdown",
   "metadata": {},
   "source": [
    "Define the paths to the data relative to the Jupyter notebook."
   ]
  },
  {
   "cell_type": "code",
   "execution_count": 2,
   "metadata": {},
   "outputs": [],
   "source": [
    "datadir = Path(\"../../data/\")\n",
    "jdft_2d = datadir / \"jdft_2d_2018-07-07.json.gz\"\n",
    "jdft_3d = datadir / \"jdft_3d_2018-07-07.json.gz\"\n",
    "jdft_3d_cfid = datadir / \"jarvisml_cfid.json.gz\""
   ]
  },
  {
   "cell_type": "markdown",
   "metadata": {},
   "source": [
    "Read the JSON files on disk and convert them into `pandas` data frames."
   ]
  },
  {
   "cell_type": "code",
   "execution_count": 3,
   "metadata": {},
   "outputs": [],
   "source": [
    "with gzip.open(jdft_2d, \"rt\") as f:\n",
    "    dft_2d_df = pd.DataFrame(json.load(f))"
   ]
  },
  {
   "cell_type": "code",
   "execution_count": 4,
   "metadata": {},
   "outputs": [],
   "source": [
    "with gzip.open(jdft_3d, \"rt\") as f:\n",
    "    dft_3d_df = pd.DataFrame(json.load(f))"
   ]
  },
  {
   "cell_type": "code",
   "execution_count": 5,
   "metadata": {},
   "outputs": [],
   "source": [
    "with gzip.open(jdft_3d_cfid, \"rt\") as f:\n",
    "    dft_3d_with_desc_df = pd.DataFrame(json.load(f))"
   ]
  },
  {
   "cell_type": "markdown",
   "metadata": {},
   "source": [
    "## Data cleaning and reshaping"
   ]
  },
  {
   "cell_type": "markdown",
   "metadata": {},
   "source": [
    "We rename the columns to be more descriptive and human-readable and then reorder them to match my preferred (and arbitrary) aesthetic."
   ]
  },
  {
   "cell_type": "code",
   "execution_count": 6,
   "metadata": {},
   "outputs": [],
   "source": [
    "rename_columns = {\n",
    "    \"eff_mass\": \"effective_mass\",\n",
    "    \"elastic\": \"elastic_tensor\",\n",
    "    \"encut\": \"vasp_plane_wave_cutoff\",\n",
    "    \"epsx\": \"dielectric_x_direction_optb88vdw\",\n",
    "    \"epsy\": \"dielectric_y_direction_optb88vdw\",\n",
    "    \"epsz\": \"dielectric_z_direction_optb88vdw\",\n",
    "    \"fin_en\": \"final_energy\",\n",
    "    \"final_str\": \"final_structure_parameters\",\n",
    "    \"form_enp\": \"formation_energy_per_atom\",\n",
    "    \"gv\": \"bulk_modulus_shear_gpa\",\n",
    "    \"icsd\": \"icsd_id\",\n",
    "    \"incar\": \"vasp_incar_parameters\",\n",
    "    \"initial_str\": \"initial_structure_parameters\",\n",
    "    \"jid\": \"jarvis_calculation_id\",\n",
    "    \"kp_leng\": \"kpoint_line_density\",\n",
    "    \"kpoints\": \"kpoints_parameters\",\n",
    "    \"kv\": \"bulk_modulus_voigt_gpa\",\n",
    "    \"magmom\": \"magnetic_moment\",\n",
    "    \"mbj_gap\": \"band_gap_mbj\",\n",
    "    \"mepsx\": \"dielectric_x_direction_mbj\",\n",
    "    \"mepsy\": \"dielectric_y_direction_mbj\",\n",
    "    \"mepsz\": \"dielectric_z_direction_mbj\",\n",
    "    \"mpid\": \"materials_project_id\",\n",
    "    \"op_gap\": \"band_gap_optb88vdw\",\n",
    "}\n",
    "column_order = [\n",
    "    \"jarvis_calculation_id\",\n",
    "    \"icsd_id\",\n",
    "    \"materials_project_id\",\n",
    "    \"initial_structure_parameters\",\n",
    "    \"final_structure_parameters\",\n",
    "    \"vasp_incar_parameters\",\n",
    "    \"vasp_plane_wave_cutoff\",\n",
    "    \"kpoints_parameters\",\n",
    "    \"kpoint_line_density\",\n",
    "    \"final_energy\",\n",
    "    \"formation_energy_per_atom\",\n",
    "    \"magnetic_moment\",\n",
    "    \"band_gap_optb88vdw\",\n",
    "    \"band_gap_mbj\",\n",
    "    \"elastic_tensor\",\n",
    "    \"effective_mass\",\n",
    "    \"bulk_modulus_shear_gpa\",\n",
    "    \"bulk_modulus_voigt_gpa\",\n",
    "    \"dielectric_x_direction_optb88vdw\",\n",
    "    \"dielectric_y_direction_optb88vdw\",\n",
    "    \"dielectric_z_direction_optb88vdw\",\n",
    "    \"dielectric_x_direction_mbj\",\n",
    "    \"dielectric_y_direction_mbj\",\n",
    "    \"dielectric_z_direction_mbj\",\n",
    "]"
   ]
  },
  {
   "cell_type": "markdown",
   "metadata": {},
   "source": [
    "Cleaning protocol."
   ]
  },
  {
   "cell_type": "code",
   "execution_count": 7,
   "metadata": {},
   "outputs": [],
   "source": [
    "dft_3d_df_clean = dft_3d_df \\\n",
    "    .rename(index=str, columns=rename_columns) \\\n",
    "    .loc[:, column_order] \\\n",
    "    .replace(to_replace=r\"na\", value=np.nan, regex=True)\n",
    "dft_3d_df_clean[\"magnetic_moment\"] = pd.DataFrame(dft_3d_df_clean[\"magnetic_moment\"].tolist()) \\\n",
    "    .loc[:, \"magmom_osz\"] \\\n",
    "    .values\n",
    "dft_3d_df_clean[\"icsd_id\"] = pd.DataFrame(dft_3d_df_clean[\"icsd_id\"].tolist()) \\\n",
    "    .replace(to_replace=r\"[\\[\\]]\", value=\"\", regex=True) \\\n",
    "    .replace(to_replace=r\"None\", value=np.nan, regex=True) \\\n",
    "    .values"
   ]
  },
  {
   "cell_type": "markdown",
   "metadata": {},
   "source": [
    "Check current progress of data frame."
   ]
  },
  {
   "cell_type": "code",
   "execution_count": 8,
   "metadata": {},
   "outputs": [
    {
     "data": {
      "text/html": [
       "<div>\n",
       "<style scoped>\n",
       "    .dataframe tbody tr th:only-of-type {\n",
       "        vertical-align: middle;\n",
       "    }\n",
       "\n",
       "    .dataframe tbody tr th {\n",
       "        vertical-align: top;\n",
       "    }\n",
       "\n",
       "    .dataframe thead th {\n",
       "        text-align: right;\n",
       "    }\n",
       "</style>\n",
       "<table border=\"1\" class=\"dataframe\">\n",
       "  <thead>\n",
       "    <tr style=\"text-align: right;\">\n",
       "      <th></th>\n",
       "      <th>jarvis_calculation_id</th>\n",
       "      <th>icsd_id</th>\n",
       "      <th>materials_project_id</th>\n",
       "      <th>initial_structure_parameters</th>\n",
       "      <th>final_structure_parameters</th>\n",
       "      <th>vasp_incar_parameters</th>\n",
       "      <th>vasp_plane_wave_cutoff</th>\n",
       "      <th>kpoints_parameters</th>\n",
       "      <th>kpoint_line_density</th>\n",
       "      <th>final_energy</th>\n",
       "      <th>...</th>\n",
       "      <th>elastic_tensor</th>\n",
       "      <th>effective_mass</th>\n",
       "      <th>bulk_modulus_shear_gpa</th>\n",
       "      <th>bulk_modulus_voigt_gpa</th>\n",
       "      <th>dielectric_x_direction_optb88vdw</th>\n",
       "      <th>dielectric_y_direction_optb88vdw</th>\n",
       "      <th>dielectric_z_direction_optb88vdw</th>\n",
       "      <th>dielectric_x_direction_mbj</th>\n",
       "      <th>dielectric_y_direction_mbj</th>\n",
       "      <th>dielectric_z_direction_mbj</th>\n",
       "    </tr>\n",
       "  </thead>\n",
       "  <tbody>\n",
       "    <tr>\n",
       "      <th>0</th>\n",
       "      <td>JVASP-11946</td>\n",
       "      <td>187983</td>\n",
       "      <td>mp-1006883</td>\n",
       "      <td>{'lattice': {'a': 2.802193, 'c': 2.802193, 'b'...</td>\n",
       "      <td>{'lattice': {'a': 2.8018838472201355, 'c': 2.8...</td>\n",
       "      <td>{'LVHAR': True, 'NELM': 500, 'IBRION': 2, 'PAR...</td>\n",
       "      <td>600</td>\n",
       "      <td>{'comment': 'Automatic kpoint scheme', 'usersh...</td>\n",
       "      <td>90</td>\n",
       "      <td>-5.430975</td>\n",
       "      <td>...</td>\n",
       "      <td>134.2,227.2,227.2,-0.0,0.0,0.0,227.2,134.2,227...</td>\n",
       "      <td>{'p': [6.023889743488937e-07, 6.02388974348893...</td>\n",
       "      <td>71.22</td>\n",
       "      <td>196.200</td>\n",
       "      <td>NaN</td>\n",
       "      <td>NaN</td>\n",
       "      <td>NaN</td>\n",
       "      <td>NaN</td>\n",
       "      <td>NaN</td>\n",
       "      <td>NaN</td>\n",
       "    </tr>\n",
       "    <tr>\n",
       "      <th>1</th>\n",
       "      <td>JVASP-11947</td>\n",
       "      <td>187972</td>\n",
       "      <td>mp-1008349</td>\n",
       "      <td>{'lattice': {'a': 3.514071, 'c': 3.514071, 'b'...</td>\n",
       "      <td>{'lattice': {'a': 3.5109611107404795, 'c': 3.5...</td>\n",
       "      <td>{'LVHAR': True, 'NELM': 500, 'IBRION': 2, 'PAR...</td>\n",
       "      <td>600</td>\n",
       "      <td>{'comment': 'Automatic kpoint scheme', 'usersh...</td>\n",
       "      <td>95</td>\n",
       "      <td>-14.477249</td>\n",
       "      <td>...</td>\n",
       "      <td>309.1,159.5,159.5,-0.0,-0.0,0.0,159.5,309.1,15...</td>\n",
       "      <td>{'p': [3.847427511538264e-07, 3.84742751153826...</td>\n",
       "      <td>116.92</td>\n",
       "      <td>209.367</td>\n",
       "      <td>NaN</td>\n",
       "      <td>NaN</td>\n",
       "      <td>NaN</td>\n",
       "      <td>NaN</td>\n",
       "      <td>NaN</td>\n",
       "      <td>NaN</td>\n",
       "    </tr>\n",
       "    <tr>\n",
       "      <th>2</th>\n",
       "      <td>JVASP-11948</td>\n",
       "      <td>187977</td>\n",
       "      <td>mp-1009264</td>\n",
       "      <td>{'lattice': {'a': 3.08203, 'c': 3.08203, 'b': ...</td>\n",
       "      <td>{'lattice': {'a': 3.081525949090212, 'c': 3.08...</td>\n",
       "      <td>{'LVHAR': True, 'NELM': 500, 'IBRION': 2, 'PAR...</td>\n",
       "      <td>500</td>\n",
       "      <td>{'comment': 'Automatic kpoint scheme', 'usersh...</td>\n",
       "      <td>95</td>\n",
       "      <td>-11.715318</td>\n",
       "      <td>...</td>\n",
       "      <td>153.4,223.4,223.4,-0.0,-0.0,0.0,223.4,153.4,22...</td>\n",
       "      <td>{'p': [6.204759693155646e-07, 6.20475969315564...</td>\n",
       "      <td>-4.58</td>\n",
       "      <td>200.067</td>\n",
       "      <td>NaN</td>\n",
       "      <td>NaN</td>\n",
       "      <td>NaN</td>\n",
       "      <td>NaN</td>\n",
       "      <td>NaN</td>\n",
       "      <td>NaN</td>\n",
       "    </tr>\n",
       "    <tr>\n",
       "      <th>3</th>\n",
       "      <td>JVASP-11949</td>\n",
       "      <td>187256</td>\n",
       "      <td>mp-1010953</td>\n",
       "      <td>{'lattice': {'a': 3.046453, 'c': 3.046453, 'b'...</td>\n",
       "      <td>{'lattice': {'a': 3.0342359656967046, 'c': 3.0...</td>\n",
       "      <td>{'LVHAR': True, 'NELM': 500, 'IBRION': 2, 'PAR...</td>\n",
       "      <td>650</td>\n",
       "      <td>{'comment': 'Automatic kpoint scheme', 'usersh...</td>\n",
       "      <td>100</td>\n",
       "      <td>-0.666785</td>\n",
       "      <td>...</td>\n",
       "      <td>96.9,90.6,90.6,-0.0,-0.0,0.0,90.6,96.9,90.6,0....</td>\n",
       "      <td>{'p': [4.160378213864604e-07, 4.16037821386460...</td>\n",
       "      <td>42.96</td>\n",
       "      <td>92.700</td>\n",
       "      <td>42.9249</td>\n",
       "      <td>42.9249</td>\n",
       "      <td>42.9249</td>\n",
       "      <td>NaN</td>\n",
       "      <td>NaN</td>\n",
       "      <td>NaN</td>\n",
       "    </tr>\n",
       "    <tr>\n",
       "      <th>4</th>\n",
       "      <td>JVASP-11950</td>\n",
       "      <td>107937</td>\n",
       "      <td>mp-1057</td>\n",
       "      <td>{'lattice': {'a': 4.029121, 'c': 4.913278, 'b'...</td>\n",
       "      <td>{'lattice': {'a': 4.042248024234043, 'c': 4.91...</td>\n",
       "      <td>{'LVHAR': True, 'NELM': 500, 'IBRION': 2, 'PAR...</td>\n",
       "      <td>600</td>\n",
       "      <td>{'comment': 'Automatic kpoint scheme', 'usersh...</td>\n",
       "      <td>95</td>\n",
       "      <td>-12.743460</td>\n",
       "      <td>...</td>\n",
       "      <td>NaN</td>\n",
       "      <td>{'p': [4.18878545631545e-07, 4.188789129957481...</td>\n",
       "      <td>NaN</td>\n",
       "      <td>NaN</td>\n",
       "      <td>44.0749</td>\n",
       "      <td>44.0749</td>\n",
       "      <td>61.1827</td>\n",
       "      <td>NaN</td>\n",
       "      <td>NaN</td>\n",
       "      <td>NaN</td>\n",
       "    </tr>\n",
       "  </tbody>\n",
       "</table>\n",
       "<p>5 rows × 24 columns</p>\n",
       "</div>"
      ],
      "text/plain": [
       "  jarvis_calculation_id icsd_id materials_project_id  \\\n",
       "0           JVASP-11946  187983           mp-1006883   \n",
       "1           JVASP-11947  187972           mp-1008349   \n",
       "2           JVASP-11948  187977           mp-1009264   \n",
       "3           JVASP-11949  187256           mp-1010953   \n",
       "4           JVASP-11950  107937              mp-1057   \n",
       "\n",
       "                        initial_structure_parameters  \\\n",
       "0  {'lattice': {'a': 2.802193, 'c': 2.802193, 'b'...   \n",
       "1  {'lattice': {'a': 3.514071, 'c': 3.514071, 'b'...   \n",
       "2  {'lattice': {'a': 3.08203, 'c': 3.08203, 'b': ...   \n",
       "3  {'lattice': {'a': 3.046453, 'c': 3.046453, 'b'...   \n",
       "4  {'lattice': {'a': 4.029121, 'c': 4.913278, 'b'...   \n",
       "\n",
       "                          final_structure_parameters  \\\n",
       "0  {'lattice': {'a': 2.8018838472201355, 'c': 2.8...   \n",
       "1  {'lattice': {'a': 3.5109611107404795, 'c': 3.5...   \n",
       "2  {'lattice': {'a': 3.081525949090212, 'c': 3.08...   \n",
       "3  {'lattice': {'a': 3.0342359656967046, 'c': 3.0...   \n",
       "4  {'lattice': {'a': 4.042248024234043, 'c': 4.91...   \n",
       "\n",
       "                               vasp_incar_parameters  vasp_plane_wave_cutoff  \\\n",
       "0  {'LVHAR': True, 'NELM': 500, 'IBRION': 2, 'PAR...                     600   \n",
       "1  {'LVHAR': True, 'NELM': 500, 'IBRION': 2, 'PAR...                     600   \n",
       "2  {'LVHAR': True, 'NELM': 500, 'IBRION': 2, 'PAR...                     500   \n",
       "3  {'LVHAR': True, 'NELM': 500, 'IBRION': 2, 'PAR...                     650   \n",
       "4  {'LVHAR': True, 'NELM': 500, 'IBRION': 2, 'PAR...                     600   \n",
       "\n",
       "                                  kpoints_parameters  kpoint_line_density  \\\n",
       "0  {'comment': 'Automatic kpoint scheme', 'usersh...                   90   \n",
       "1  {'comment': 'Automatic kpoint scheme', 'usersh...                   95   \n",
       "2  {'comment': 'Automatic kpoint scheme', 'usersh...                   95   \n",
       "3  {'comment': 'Automatic kpoint scheme', 'usersh...                  100   \n",
       "4  {'comment': 'Automatic kpoint scheme', 'usersh...                   95   \n",
       "\n",
       "   final_energy             ...              \\\n",
       "0     -5.430975             ...               \n",
       "1    -14.477249             ...               \n",
       "2    -11.715318             ...               \n",
       "3     -0.666785             ...               \n",
       "4    -12.743460             ...               \n",
       "\n",
       "                                      elastic_tensor  \\\n",
       "0  134.2,227.2,227.2,-0.0,0.0,0.0,227.2,134.2,227...   \n",
       "1  309.1,159.5,159.5,-0.0,-0.0,0.0,159.5,309.1,15...   \n",
       "2  153.4,223.4,223.4,-0.0,-0.0,0.0,223.4,153.4,22...   \n",
       "3  96.9,90.6,90.6,-0.0,-0.0,0.0,90.6,96.9,90.6,0....   \n",
       "4                                                NaN   \n",
       "\n",
       "                                      effective_mass  bulk_modulus_shear_gpa  \\\n",
       "0  {'p': [6.023889743488937e-07, 6.02388974348893...                   71.22   \n",
       "1  {'p': [3.847427511538264e-07, 3.84742751153826...                  116.92   \n",
       "2  {'p': [6.204759693155646e-07, 6.20475969315564...                   -4.58   \n",
       "3  {'p': [4.160378213864604e-07, 4.16037821386460...                   42.96   \n",
       "4  {'p': [4.18878545631545e-07, 4.188789129957481...                     NaN   \n",
       "\n",
       "   bulk_modulus_voigt_gpa dielectric_x_direction_optb88vdw  \\\n",
       "0                 196.200                              NaN   \n",
       "1                 209.367                              NaN   \n",
       "2                 200.067                              NaN   \n",
       "3                  92.700                          42.9249   \n",
       "4                     NaN                          44.0749   \n",
       "\n",
       "  dielectric_y_direction_optb88vdw  dielectric_z_direction_optb88vdw  \\\n",
       "0                              NaN                               NaN   \n",
       "1                              NaN                               NaN   \n",
       "2                              NaN                               NaN   \n",
       "3                          42.9249                           42.9249   \n",
       "4                          44.0749                           61.1827   \n",
       "\n",
       "   dielectric_x_direction_mbj  dielectric_y_direction_mbj  \\\n",
       "0                         NaN                         NaN   \n",
       "1                         NaN                         NaN   \n",
       "2                         NaN                         NaN   \n",
       "3                         NaN                         NaN   \n",
       "4                         NaN                         NaN   \n",
       "\n",
       "   dielectric_z_direction_mbj  \n",
       "0                         NaN  \n",
       "1                         NaN  \n",
       "2                         NaN  \n",
       "3                         NaN  \n",
       "4                         NaN  \n",
       "\n",
       "[5 rows x 24 columns]"
      ]
     },
     "execution_count": 8,
     "metadata": {},
     "output_type": "execute_result"
    }
   ],
   "source": [
    "dft_3d_df_clean.head()"
   ]
  }
 ],
 "metadata": {
  "kernelspec": {
   "display_name": "Python 3",
   "language": "python",
   "name": "python3"
  },
  "language_info": {
   "codemirror_mode": {
    "name": "ipython",
    "version": 3
   },
   "file_extension": ".py",
   "mimetype": "text/x-python",
   "name": "python",
   "nbconvert_exporter": "python",
   "pygments_lexer": "ipython3",
   "version": "3.7.0"
  }
 },
 "nbformat": 4,
 "nbformat_minor": 2
}
