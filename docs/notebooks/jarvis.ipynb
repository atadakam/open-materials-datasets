{
 "cells": [
  {
   "cell_type": "markdown",
   "metadata": {},
   "source": [
    "# The NIST JARVIS Dataset"
   ]
  },
  {
   "cell_type": "markdown",
   "metadata": {},
   "source": [
    "---"
   ]
  },
  {
   "cell_type": "markdown",
   "metadata": {},
   "source": [
    "## Modules"
   ]
  },
  {
   "cell_type": "code",
   "execution_count": 1,
   "metadata": {},
   "outputs": [],
   "source": [
    "import gzip\n",
    "import json\n",
    "import os\n",
    "from pathlib import Path\n",
    "\n",
    "import numpy as np\n",
    "import pandas as pd\n",
    "import pymatgen as pmg"
   ]
  },
  {
   "cell_type": "markdown",
   "metadata": {},
   "source": [
    "## Reading the data"
   ]
  },
  {
   "cell_type": "markdown",
   "metadata": {},
   "source": [
    "### Data sources"
   ]
  },
  {
   "cell_type": "markdown",
   "metadata": {},
   "source": [
    "Listed as a kind of key, value pair. The \"keys\" are the names I gave to the data files after downloading. The \"values\" are the links on FigShare where I was able to download the data.\n",
    "\n",
    "*   `jdft_3d_2018-07-07.json`: <https://figshare.com/articles/jdft_3d-7-7-2018_json/6815699>\n",
    "*   `jdft_2d_2018-07-07.json`: <https://figshare.com/articles/jdft_2d-7-7-2018_json/6815705>\n",
    "*   `jarvisml_cfid.json`: <https://figshare.com/articles/JARVIS-ML-CFID-descriptors_and_material_properties/6870101>\n",
    "\n",
    "After downloading and renaming the data files, I compressed them using `gzip` and moved them to this repository's `data/` directory. You can reproduce my results if you do the same."
   ]
  },
  {
   "cell_type": "markdown",
   "metadata": {},
   "source": [
    "### Data dictionary"
   ]
  },
  {
   "cell_type": "markdown",
   "metadata": {},
   "source": [
    "Source: https://github.com/usnistgov/jarvis/blob/master/jarvis/db/static/jarvis_ml-train.ipynb\n",
    "\n",
    "| predictor      | description                                                                                                                                      |\n",
    "| -------------- | ------------------------------------------------------------------------------------------------------------------------------------------------ |\n",
    "| desc           | 1557 descriptors                                                                                                                                 |\n",
    "| form_enp       | formation energy per atom (eV/atom)                                                                                                              |\n",
    "| op_gap         | OptB88vdW functional based bandgap (eV)                                                                                                          |\n",
    "| mbj_gap        | TBmBJ functional based bandgap (eV)                                                                                                              |\n",
    "| kv             | Voigt bulk mod. (GPa)                                                                                                                            |\n",
    "| gv             | Shear bulk mod. (GPa)                                                                                                                            |\n",
    "| elastic        | elastic tensor instring format, use the function 'get_et' to convert into pymatgen elastictensor object                                          |\n",
    "| epsx           | Static dielctric function value in x-direction based on OptB88vdW (no unit)                                                                      |\n",
    "| mepsx          | Static dielctric function value in x-direction based on TBmBJ (no unit)                                                                          |\n",
    "| magmom         | Magnetic moment (Bohr magneton) [from OUTCAR and from OSZICAR], generally OSZICAR value is preferred                                             |\n",
    "| kp_leng        | Kpoint automatic line density obtained after automatic convergence (Angstrom), substract 25 because 5 extra points were taken during convergence |\n",
    "| encut          | Plane wave cut-off value obtained after automatic convergence                                                                                    |\n",
    "| exfoliation_en | exfoliation energy                                                                                                                               |\n",
    "| strt           | final structure after relaxation with OptB88vdW                                                                                                  |\n",
    "| el/hl_mass     | effective mass with BoltzTrap at 300K for electrons/holes                                                                                        |"
   ]
  },
  {
   "cell_type": "markdown",
   "metadata": {},
   "source": [
    "### Loading the data"
   ]
  },
  {
   "cell_type": "markdown",
   "metadata": {},
   "source": [
    "Define the paths to the data relative to the Jupyter notebook."
   ]
  },
  {
   "cell_type": "code",
   "execution_count": 2,
   "metadata": {},
   "outputs": [],
   "source": [
    "datadir = Path(\"data/\")\n",
    "jdft_2d = datadir / \"jdft_2d-7-7-2018.json\"\n",
    "jdft_3d = datadir / \"jdft_3d-7-7-2018.json\"\n",
    "jdft_3d_cfid = datadir / \"jarvisml_cfid.json\"\n",
    "# os.listdir(datadir)"
   ]
  },
  {
   "cell_type": "markdown",
   "metadata": {},
   "source": [
    "Read the JSON files on disk and convert them into `pandas` data frames."
   ]
  },
  {
   "cell_type": "code",
   "execution_count": 3,
   "metadata": {},
   "outputs": [],
   "source": [
    "with open(jdft_2d) as json_data:\n",
    "   dft_2d_df = json.load(json_data)"
   ]
  },
  {
   "cell_type": "code",
   "execution_count": 4,
   "metadata": {},
   "outputs": [],
   "source": [
    "with open(jdft_3d) as json_data:\n",
    "   dft_3d_df = json.load(json_data)"
   ]
  },
  {
   "cell_type": "code",
   "execution_count": 5,
   "metadata": {},
   "outputs": [],
   "source": [
    "with open(jdft_3d_cfid) as json_data:\n",
    "   dft_3d_with_desc_df = json.load(json_data)"
   ]
  },
  {
   "cell_type": "code",
   "execution_count": 6,
   "metadata": {},
   "outputs": [],
   "source": [
    "# with gzip.open(jdft_2d, \"rt\") as f:\n",
    "#     dft_2d_df = pd.DataFrame(json.load(f))"
   ]
  },
  {
   "cell_type": "code",
   "execution_count": 7,
   "metadata": {},
   "outputs": [],
   "source": [
    "# with gzip.open(jdft_3d, \"rt\") as f:\n",
    "#     dft_3d_df = pd.DataFrame(json.load(f))"
   ]
  },
  {
   "cell_type": "code",
   "execution_count": 8,
   "metadata": {},
   "outputs": [],
   "source": [
    "# with gzip.open(jdft_3d_cfid, \"rt\") as f:\n",
    "#     dft_3d_with_desc_df = pd.DataFrame(json.load(f))"
   ]
  },
  {
   "cell_type": "markdown",
   "metadata": {},
   "source": [
    "## Data cleaning and reshaping"
   ]
  },
  {
   "cell_type": "markdown",
   "metadata": {},
   "source": [
    "We rename the columns to be more descriptive and human-readable and then reorder them to match my preferred (and arbitrary) aesthetic."
   ]
  },
  {
   "cell_type": "code",
   "execution_count": 9,
   "metadata": {},
   "outputs": [],
   "source": [
    "rename_columns = {\n",
    "    \"eff_mass\": \"effective_mass\",\n",
    "    \"elastic\": \"elastic_tensor\",\n",
    "    \"encut\": \"vasp_plane_wave_cutoff\",\n",
    "    \"epsx\": \"dielectric_x_direction_optb88vdw\",\n",
    "    \"epsy\": \"dielectric_y_direction_optb88vdw\",\n",
    "    \"epsz\": \"dielectric_z_direction_optb88vdw\",\n",
    "    \"fin_en\": \"final_energy\",\n",
    "    \"final_str\": \"final_structure_parameters\",\n",
    "    \"form_enp\": \"formation_energy_per_atom\",\n",
    "    \"gv\": \"bulk_modulus_shear_gpa\",\n",
    "    \"icsd\": \"icsd_id\",\n",
    "    \"incar\": \"vasp_incar_parameters\",\n",
    "    \"initial_str\": \"initial_structure_parameters\",\n",
    "    \"jid\": \"jarvis_calculation_id\",\n",
    "    \"kp_leng\": \"kpoint_line_density\",\n",
    "    \"kpoints\": \"kpoints_parameters\",\n",
    "    \"kv\": \"bulk_modulus_voigt_gpa\",\n",
    "    \"magmom\": \"magnetic_moment\",\n",
    "    \"mbj_gap\": \"band_gap_mbj\",\n",
    "    \"mepsx\": \"dielectric_x_direction_mbj\",\n",
    "    \"mepsy\": \"dielectric_y_direction_mbj\",\n",
    "    \"mepsz\": \"dielectric_z_direction_mbj\",\n",
    "    \"mpid\": \"materials_project_id\",\n",
    "    \"op_gap\": \"band_gap_optb88vdw\",\n",
    "}\n",
    "column_order = [\n",
    "    \"jarvis_calculation_id\",\n",
    "    \"icsd_id\",\n",
    "    \"materials_project_id\",\n",
    "    \"initial_structure_parameters\",\n",
    "    \"final_structure_parameters\",\n",
    "    \"vasp_incar_parameters\",\n",
    "    \"vasp_plane_wave_cutoff\",\n",
    "    \"kpoints_parameters\",\n",
    "    \"kpoint_line_density\",\n",
    "    \"final_energy\",\n",
    "    \"formation_energy_per_atom\",\n",
    "    \"magnetic_moment\",\n",
    "    \"band_gap_optb88vdw\",\n",
    "    \"band_gap_mbj\",\n",
    "    \"elastic_tensor\",\n",
    "    \"effective_mass\",\n",
    "    \"bulk_modulus_shear_gpa\",\n",
    "    \"bulk_modulus_voigt_gpa\",\n",
    "    \"dielectric_x_direction_optb88vdw\",\n",
    "    \"dielectric_y_direction_optb88vdw\",\n",
    "    \"dielectric_z_direction_optb88vdw\",\n",
    "    \"dielectric_x_direction_mbj\",\n",
    "    \"dielectric_y_direction_mbj\",\n",
    "    \"dielectric_z_direction_mbj\",\n",
    "]"
   ]
  },
  {
   "cell_type": "markdown",
   "metadata": {},
   "source": [
    "Cleaning protocol."
   ]
  },
  {
   "cell_type": "code",
   "execution_count": 10,
   "metadata": {},
   "outputs": [
    {
     "ename": "AttributeError",
     "evalue": "'list' object has no attribute 'rename'",
     "output_type": "error",
     "traceback": [
      "\u001b[0;31m---------------------------------------------------------------------------\u001b[0m",
      "\u001b[0;31mAttributeError\u001b[0m                            Traceback (most recent call last)",
      "\u001b[0;32m<ipython-input-10-9b7a1eae5f05>\u001b[0m in \u001b[0;36m<module>\u001b[0;34m\u001b[0m\n\u001b[0;32m----> 1\u001b[0;31m \u001b[0mdft_3d_df_clean\u001b[0m \u001b[0;34m=\u001b[0m \u001b[0mdft_3d_df\u001b[0m\u001b[0;31m \u001b[0m\u001b[0;31m\\\u001b[0m\u001b[0;34m\u001b[0m\u001b[0;34m\u001b[0m\u001b[0m\n\u001b[0m\u001b[1;32m      2\u001b[0m     \u001b[0;34m.\u001b[0m\u001b[0mrename\u001b[0m\u001b[0;34m(\u001b[0m\u001b[0mindex\u001b[0m\u001b[0;34m=\u001b[0m\u001b[0mstr\u001b[0m\u001b[0;34m,\u001b[0m \u001b[0mcolumns\u001b[0m\u001b[0;34m=\u001b[0m\u001b[0mrename_columns\u001b[0m\u001b[0;34m)\u001b[0m\u001b[0;31m \u001b[0m\u001b[0;31m\\\u001b[0m\u001b[0;34m\u001b[0m\u001b[0;34m\u001b[0m\u001b[0m\n\u001b[1;32m      3\u001b[0m     \u001b[0;34m.\u001b[0m\u001b[0mloc\u001b[0m\u001b[0;34m[\u001b[0m\u001b[0;34m:\u001b[0m\u001b[0;34m,\u001b[0m \u001b[0mcolumn_order\u001b[0m\u001b[0;34m]\u001b[0m\u001b[0;31m \u001b[0m\u001b[0;31m\\\u001b[0m\u001b[0;34m\u001b[0m\u001b[0;34m\u001b[0m\u001b[0m\n\u001b[1;32m      4\u001b[0m     \u001b[0;34m.\u001b[0m\u001b[0mreplace\u001b[0m\u001b[0;34m(\u001b[0m\u001b[0mto_replace\u001b[0m\u001b[0;34m=\u001b[0m\u001b[0;34mr\"na\"\u001b[0m\u001b[0;34m,\u001b[0m \u001b[0mvalue\u001b[0m\u001b[0;34m=\u001b[0m\u001b[0mnp\u001b[0m\u001b[0;34m.\u001b[0m\u001b[0mnan\u001b[0m\u001b[0;34m,\u001b[0m \u001b[0mregex\u001b[0m\u001b[0;34m=\u001b[0m\u001b[0;32mTrue\u001b[0m\u001b[0;34m)\u001b[0m\u001b[0;34m\u001b[0m\u001b[0;34m\u001b[0m\u001b[0m\n",
      "\u001b[0;31mAttributeError\u001b[0m: 'list' object has no attribute 'rename'"
     ]
    }
   ],
   "source": [
    "dft_3d_df_clean = dft_3d_df \\\n",
    "    .rename(index=str, columns=rename_columns) \\\n",
    "    .loc[:, column_order] \\\n",
    "    .replace(to_replace=r\"na\", value=np.nan, regex=True)"
   ]
  },
  {
   "cell_type": "code",
   "execution_count": null,
   "metadata": {},
   "outputs": [],
   "source": [
    "dft_3d_df_clean[\"magnetic_moment\"] = pd.DataFrame(dft_3d_df_clean[\"magnetic_moment\"].tolist()) \\\n",
    "    .loc[:, \"magmom_osz\"] \\\n",
    "    .values"
   ]
  },
  {
   "cell_type": "code",
   "execution_count": null,
   "metadata": {},
   "outputs": [],
   "source": [
    "dft_3d_df_clean[\"icsd_id\"] = pd.DataFrame(dft_3d_df_clean[\"icsd_id\"].tolist()) \\\n",
    "    .replace(to_replace=r\"[\\[\\]]\", value=\"\", regex=True) \\\n",
    "    .replace(to_replace=r\"None\", value=np.nan, regex=True) \\\n",
    "    .values"
   ]
  },
  {
   "cell_type": "code",
   "execution_count": null,
   "metadata": {},
   "outputs": [],
   "source": [
    "# dft_3d_df_clean = dft_3d_df \\\n",
    "#     .rename(index=str, columns=rename_columns) \\\n",
    "#     .loc[:, column_order] \\\n",
    "#     .replace(to_replace=r\"na\", value=np.nan, regex=True)\n",
    "# dft_3d_df_clean[\"magnetic_moment\"] = pd.DataFrame(dft_3d_df_clean[\"magnetic_moment\"].tolist()) \\\n",
    "#     .loc[:, \"magmom_osz\"] \\\n",
    "#     .values\n",
    "# dft_3d_df_clean[\"icsd_id\"] = pd.DataFrame(dft_3d_df_clean[\"icsd_id\"].tolist()) \\\n",
    "#     .replace(to_replace=r\"[\\[\\]]\", value=\"\", regex=True) \\\n",
    "#     .replace(to_replace=r\"None\", value=np.nan, regex=True) \\\n",
    "#     .values"
   ]
  },
  {
   "cell_type": "markdown",
   "metadata": {},
   "source": [
    "Check current progress of data frame."
   ]
  },
  {
   "cell_type": "code",
   "execution_count": null,
   "metadata": {},
   "outputs": [],
   "source": [
    "dft_3d_df_clean.head()"
   ]
  }
 ],
 "metadata": {
  "kernelspec": {
   "display_name": "Python 3",
   "language": "python",
   "name": "python3"
  },
  "language_info": {
   "codemirror_mode": {
    "name": "ipython",
    "version": 3
   },
   "file_extension": ".py",
   "mimetype": "text/x-python",
   "name": "python",
   "nbconvert_exporter": "python",
   "pygments_lexer": "ipython3",
   "version": "3.7.1"
  }
 },
 "nbformat": 4,
 "nbformat_minor": 2
}
